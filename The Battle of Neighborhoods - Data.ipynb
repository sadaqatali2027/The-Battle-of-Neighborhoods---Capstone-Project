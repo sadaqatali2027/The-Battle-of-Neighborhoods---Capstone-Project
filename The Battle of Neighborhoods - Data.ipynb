{
 "cells": [
  {
   "cell_type": "markdown",
   "metadata": {},
   "source": [
    "# Data Sources"
   ]
  },
  {
   "cell_type": "markdown",
   "metadata": {},
   "source": [
    "### Geospatial data of the boroughs"
   ]
  },
  {
   "cell_type": "markdown",
   "metadata": {},
   "source": [
    " New York population is distributed into 5 boroughs and 306 neighbourhoods. To explore the data, we need to get the access to the data containing the boroughs and their geospatial coordinates. I downloaded the data freely available from the website  \n",
    " https://geo.nyu.edu/catalog/nyu_2451_34572\n",
    " in geojason format. This data will be transformed into Pandas data frame for easy data analysis and visualization. "
   ]
  },
  {
   "cell_type": "markdown",
   "metadata": {},
   "source": [
    "### Venue data for Thai restaurants, Ratings and Tips"
   ]
  },
  {
   "cell_type": "markdown",
   "metadata": {},
   "source": [
    "Foursquare API would be used to get the information about venues with filtering applied to find the Thai restaurants. Graphical representation of number of boroughs vs number of Thai restaurants and neighbourhoods plotted against number of Thai restaurants would give us a fair idea about the distribution of the restaurants.\n",
    "Foursquare data will also be used to retrieve the information about rating and amount of average tips that will help us to fulfil the requirement as stated in the problem description for the location of both upbeat and affordable restaurants. \n",
    "The recommendation for the location of both restaurants will be plotted and viewed on the folium based maps within Jupyter notebook. \n",
    "https://foursquare.com/explore?mode=url&ne=40.834333%2C-73.762293&q=Thai&sw=40.67517%2C-74.081926"
   ]
  },
  {
   "cell_type": "markdown",
   "metadata": {},
   "source": [
    "### Methodology"
   ]
  },
  {
   "cell_type": "markdown",
   "metadata": {},
   "source": [
    "- Extract data on Newyork buroughs\n",
    "- Determine the latitude and longitude values of New york.\n",
    "- Generate a New York with neighborhoods superimposed on Streets\n",
    "- Collect data on restaurants New York neighbourhood using Foursquare API.\n",
    "- Use k-means clustering to explore restaurant density in different buroughs\n",
    "- Use the above information to locations with less number of restaurants and with resturants with high ratings. \n",
    "- Areas of interest will be defined as locations with fewer restaurants in a radius of 500m. It will also include additional criteria like type of restaurants available, frequency of visit, etc. that will be determined from discussions with Target audience.\n",
    "- Generate a maps will to display all such locations to the target audience for decision making"
   ]
  },
  {
   "cell_type": "code",
   "execution_count": null,
   "metadata": {},
   "outputs": [],
   "source": []
  }
 ],
 "metadata": {
  "kernelspec": {
   "display_name": "Python 3",
   "language": "python",
   "name": "python3"
  },
  "language_info": {
   "codemirror_mode": {
    "name": "ipython",
    "version": 3
   },
   "file_extension": ".py",
   "mimetype": "text/x-python",
   "name": "python",
   "nbconvert_exporter": "python",
   "pygments_lexer": "ipython3",
   "version": "3.8.3"
  }
 },
 "nbformat": 4,
 "nbformat_minor": 4
}
