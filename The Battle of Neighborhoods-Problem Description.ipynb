{
 "cells": [
  {
   "cell_type": "markdown",
   "metadata": {},
   "source": [
    "# The Battle of Neighbourhoods - Problem Description"
   ]
  },
  {
   "cell_type": "markdown",
   "metadata": {},
   "source": [
    "### Introduction and Background"
   ]
  },
  {
   "cell_type": "markdown",
   "metadata": {},
   "source": [
    "New York City is one of the most ethenically diverse cities in the world. It started accepting immigrants in 19th century and have since bacame a melting pot of the diverse languages, people and cultures. In 2019, it was estimated to have a population of 8.3 million which live in 5 main boroughs namely Brooklyn, Bronx, Manhattan, Queens and Staten Island.\n",
    "New York is a very busy city, both in terms of its population and tourists. As per the data of 2019, the populations of asians american is more than a million , which is about about 12 % of the population of New York city. Add to it the people from subcontinent i.e. India, Bangladesh and Pakistan, Srilanka and Nepal and you have a very large asian and south east asian population that has come to new york for studying, jobs and businesses.\n"
   ]
  },
  {
   "cell_type": "markdown",
   "metadata": {},
   "source": [
    "### Business Problem Description"
   ]
  },
  {
   "cell_type": "markdown",
   "metadata": {},
   "source": [
    "An entrepreneur has recently moved to New Yorks and is looking to open a resturant. His initial market research reveals that there is good opportunity for a Thai food resturant as it  equally popular among the european and north american tourists who crave exotic food and will pay hefty prices for a upbeat expensive resturant that provides good ambiance and asian population who loves aromatic and spicy food at afforable prices. New York is also very diverse in terms of earning and the entrepreneur is thus planning to open two thai resturants, an expensive version providing a fine dinning expereince to wealthy residents and tourists and an express version for middle class clients. \n",
    "The business man thus hires a data scientist to suggest to him the location for two resturants, the upbeat expensive resturant in an locality which offers the opportunity for higher tips and better ratings driven by the social media usage of the rich and wealthy and a location for an express resturant offering thai food at afforable prices in a neighborhood which has low number of thai food restaurants. \n"
   ]
  },
  {
   "cell_type": "markdown",
   "metadata": {},
   "source": [
    "### Target Audience"
   ]
  },
  {
   "cell_type": "markdown",
   "metadata": {},
   "source": [
    "Tourists of all classes, those looking for a romantic, business or elaborate dinner and those who are on the move and need a quick filler on the go at affordable prices. "
   ]
  },
  {
   "cell_type": "code",
   "execution_count": null,
   "metadata": {},
   "outputs": [],
   "source": []
  }
 ],
 "metadata": {
  "kernelspec": {
   "display_name": "Python 3",
   "language": "python",
   "name": "python3"
  },
  "language_info": {
   "codemirror_mode": {
    "name": "ipython",
    "version": 3
   },
   "file_extension": ".py",
   "mimetype": "text/x-python",
   "name": "python",
   "nbconvert_exporter": "python",
   "pygments_lexer": "ipython3",
   "version": "3.8.3"
  }
 },
 "nbformat": 4,
 "nbformat_minor": 4
}
